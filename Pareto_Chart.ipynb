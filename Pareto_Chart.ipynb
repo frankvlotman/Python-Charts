{
 "cells": [
  {
   "cell_type": "code",
   "execution_count": null,
   "metadata": {},
   "outputs": [],
   "source": [
    "import matplotlib.pyplot as plt\n",
    "\n",
    "# Data\n",
    "categories = ['Cat: A', 'Cat: B', 'Cat: C', 'Cat: D', 'Cat: E']\n",
    "values = [100, 70, 50, 30, 10]\n",
    "\n",
    "# Calculate the cumulative percentages\n",
    "total = sum(values)\n",
    "cumulative_percentages = [100 * sum(values[:i+1]) / total for i in range(len(values))]\n",
    "\n",
    "# Create the Pareto Chart\n",
    "fig, ax1 = plt.subplots()\n",
    "\n",
    "# Create the bar chart\n",
    "ax1.bar(categories, values, color='skyblue')\n",
    "ax1.set_xlabel('Categories', color='green')\n",
    "ax1.set_ylabel('Frequency', color='green')\n",
    "\n",
    "# Create the line chart for cumulative percentages\n",
    "ax2 = ax1.twinx()\n",
    "ax2.plot(categories, cumulative_percentages, color='red', marker='o')\n",
    "ax2.set_ylabel('Cumulative Percentage (%)', color='green')\n",
    "ax2.tick_params(axis='y', labelcolor='red')\n",
    "\n",
    "# Draw a horizontal line at 80% mark\n",
    "ax2.axhline(y=80, color='purple', linestyle='--')\n",
    "\n",
    "# Rotate the x-axis labels for better readability\n",
    "plt.xticks(rotation=45)\n",
    "\n",
    "# Add a title\n",
    "plt.title('Pareto Chart')\n",
    "\n",
    "plt.show()\n"
   ]
  }
 ],
 "metadata": {
  "kernelspec": {
   "display_name": "Python 3",
   "language": "python",
   "name": "python3"
  },
  "language_info": {
   "codemirror_mode": {
    "name": "ipython",
    "version": 3
   },
   "file_extension": ".py",
   "mimetype": "text/x-python",
   "name": "python",
   "nbconvert_exporter": "python",
   "pygments_lexer": "ipython3",
   "version": "3.10.8"
  }
 },
 "nbformat": 4,
 "nbformat_minor": 2
}
